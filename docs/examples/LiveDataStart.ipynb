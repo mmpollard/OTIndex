{
 "cells": [
  {
   "cell_type": "markdown",
   "metadata": {},
   "source": [
    "## Getting all events (games) for a given day and their corresponding info... ##"
   ]
  },
  {
   "cell_type": "code",
   "execution_count": 1,
   "metadata": {},
   "outputs": [],
   "source": [
    "# The Requests library also comes with a built-in JSON decoder,\n",
    "# just in case you have to deal with JSON data\n",
    "import requests\n",
    "r = requests.get('http://site.api.espn.com/apis/site/v2/sports/basketball/nba/scoreboard')\n",
    "json_response = r.json()"
   ]
  },
  {
   "cell_type": "markdown",
   "metadata": {},
   "source": [
    "## Picking an event, and grabbing all links for that event ##"
   ]
  },
  {
   "cell_type": "code",
   "execution_count": 2,
   "metadata": {},
   "outputs": [
    {
     "name": "stdout",
     "output_type": "stream",
     "text": [
      "language => en\n",
      "rel => ['summary', 'desktop', 'event']\n",
      "href => http://www.espn.com/nba/game?gameId=401071193\n",
      "text => Gamecast\n",
      "shortText => Gamecast\n",
      "isExternal => False\n",
      "isPremium => False\n",
      "language => en\n",
      "rel => ['conversation', 'desktop', 'event']\n",
      "href => http://www.espn.com/nba/conversation?gameId=401071193\n",
      "text => Conversation\n",
      "shortText => Conversation\n",
      "isExternal => False\n",
      "isPremium => False\n",
      "language => en\n",
      "rel => ['pickcenter', 'desktop', 'event']\n",
      "href => http://insider.espn.com/insider/pickcenter/nba/game?gameid=401071193\n",
      "text => PickCenter\n",
      "shortText => PickCenter\n",
      "isExternal => False\n",
      "isPremium => True\n"
     ]
    }
   ],
   "source": [
    "events = json_response['events']\n",
    "\n",
    "first_game = events[0]\n",
    "\n",
    "#this is a list\n",
    "all_links = first_game['links']\n",
    "\n",
    "for link in all_links:\n",
    "    for key,val in link.items():\n",
    "        print(key, \"=>\", val)"
   ]
  },
  {
   "cell_type": "markdown",
   "metadata": {},
   "source": [
    "## Let's grab the html response for the Gamecast/BoxScore links and see if we can grab any data from it... ##"
   ]
  },
  {
   "cell_type": "code",
   "execution_count": 17,
   "metadata": {},
   "outputs": [
    {
     "data": {
      "text/plain": [
       "['http://www.espn.com/nba/game?gameId=401071193',\n",
       " 'http://www.espn.com/nba/game?gameId=401071194',\n",
       " 'http://www.espn.com/nba/game?gameId=401071195',\n",
       " 'http://www.espn.com/nba/game?gameId=401071196',\n",
       " 'http://www.espn.com/nba/game?gameId=401071197',\n",
       " 'http://www.espn.com/nba/game?gameId=401071198',\n",
       " 'http://www.espn.com/nba/game?gameId=401071199',\n",
       " 'http://www.espn.com/nba/game?gameId=401071200',\n",
       " 'http://www.espn.com/nba/game?gameId=401071201',\n",
       " 'http://www.espn.com/nba/game?gameId=401071202']"
      ]
     },
     "execution_count": 17,
     "metadata": {},
     "output_type": "execute_result"
    }
   ],
   "source": [
    "all_events = json_response['events']\n",
    "\n",
    "gamecast_links = []\n",
    "boxscore_links = []\n",
    "\n",
    "for event in all_events:\n",
    "    game_links = event['links']\n",
    "    for link in game_links:\n",
    "        which_link = link['text']\n",
    "        if 'Gamecast' in link['text']:\n",
    "            gamecast_links.append(link['href'])\n",
    "        if 'Boxscore' in link['text']:\n",
    "            boxscore_links.append(link['href'])\n",
    "\n",
    "boxscore_links\n",
    "gamecast_links"
   ]
  },
  {
   "cell_type": "markdown",
   "metadata": {},
   "source": [
    "## Using pandas, we can parse all tables on the page and get the relevant info needed... ##"
   ]
  },
  {
   "cell_type": "code",
   "execution_count": 30,
   "metadata": {},
   "outputs": [
    {
     "data": {
      "text/plain": [
       "[  Unnamed: 0   1   2   3   4    T\n",
       " 0        BOS  24  31  31  27  113\n",
       " 1        HOU  35  22  35  35  127,\n",
       "                       Starters                   MIN     FG    3PT     FT  \\\n",
       " 0         M. MorrisM. MorrisPF                    29   6-11    3-5    4-4   \n",
       " 1           J. TatumJ. TatumSF                    29    2-7    0-1    0-0   \n",
       " 2        A. HorfordA. HorfordC                    24   7-12    1-1    0-0   \n",
       " 3         K. IrvingK. IrvingPG                    36   7-13    2-6    7-7   \n",
       " 4           M. SmartM. SmartPG                    31   4-10    1-5    2-4   \n",
       " 5       S. OjeleyeS. OjeleyePF                     5    1-1    1-1    0-0   \n",
       " 6     G. YabuseleG. YabuselePF                     5    0-1    0-0    0-0   \n",
       " 7           D. TheisD. TheisPF                    18    0-3    0-0    6-8   \n",
       " 8       G. HaywardG. HaywardSF                    24    2-5    2-4    3-3   \n",
       " 9         T. RozierT. RozierPG                    15    2-6    1-4    0-0   \n",
       " 10          J. BrownJ. BrownSG                    24   7-12    1-4    3-5   \n",
       " 11  B. WanamakerB. WanamakerPG  DNP-COACH'S DECISION    NaN    NaN    NaN   \n",
       " 12                        TEAM                   NaN  38-81  12-31  25-31   \n",
       " 13                         NaN                   NaN  46.9%  38.7%  80.6%   \n",
       " \n",
       "     OREB  DREB   REB   AST  STL  BLK    TO    PF   +/-    PTS  \n",
       " 0    0.0   6.0   6.0   2.0  1.0  1.0   2.0   3.0   2.0   19.0  \n",
       " 1    0.0   3.0   3.0   2.0  1.0  0.0   1.0   3.0 -12.0    4.0  \n",
       " 2    2.0   2.0   4.0   4.0  1.0  0.0   3.0   2.0  10.0   15.0  \n",
       " 3    0.0   5.0   5.0  11.0  1.0  1.0   1.0   3.0   6.0   23.0  \n",
       " 4    0.0   2.0   2.0   3.0  1.0  0.0   3.0   3.0   4.0   11.0  \n",
       " 5    0.0   0.0   0.0   0.0  0.0  0.0   0.0   1.0   1.0    3.0  \n",
       " 6    0.0   1.0   1.0   0.0  1.0  0.0   0.0   0.0   3.0    0.0  \n",
       " 7    3.0   1.0   4.0   0.0  1.0  1.0   0.0   3.0 -27.0    6.0  \n",
       " 8    1.0   5.0   6.0   5.0  1.0  0.0   1.0   2.0 -19.0    9.0  \n",
       " 9    1.0   1.0   2.0   1.0  0.0  0.0   0.0   0.0 -16.0    5.0  \n",
       " 10   0.0   5.0   5.0   0.0  0.0  0.0   0.0   2.0 -22.0   18.0  \n",
       " 11   NaN   NaN   NaN   NaN  NaN  NaN   NaN   NaN   NaN    NaN  \n",
       " 12   7.0  31.0  38.0  28.0  8.0  3.0  11.0  22.0   NaN  113.0  \n",
       " 13   NaN   NaN   NaN   NaN  NaN  NaN   NaN   NaN   NaN    NaN  ,\n",
       "                                   Starters                   MIN     FG  \\\n",
       " 0                     P. TuckerP. TuckerSF                    35    1-6   \n",
       " 1               D. House Jr.D. House Jr.SF                    28    3-5   \n",
       " 2                      C. CapelaC. CapelaC                    38   9-14   \n",
       " 3                     J. HardenJ. HardenPG                    39  11-26   \n",
       " 4                     E. GordonE. GordonSG                    34   7-16   \n",
       " 5                    N. HilarioN. HilarioC                    10    3-3   \n",
       " 6                     A. RiversA. RiversPG                    33    4-8   \n",
       " 7                       G. GreenG. GreenSG                    23    3-8   \n",
       " 8                       G. ClarkG. ClarkPF  DNP-COACH'S DECISION    NaN   \n",
       " 9                     M. ChrissM. ChrissPF  DNP-COACH'S DECISION    NaN   \n",
       " 10                    B. KnightB. KnightPG  DNP-COACH'S DECISION    NaN   \n",
       " 11  M. Carter-WilliamsM. Carter-WilliamsPG  DNP-COACH'S DECISION    NaN   \n",
       " 12                        C. PaulC. PaulPG         DNP-HAMSTRING    NaN   \n",
       " 13                                    TEAM                   NaN  41-86   \n",
       " 14                                     NaN                   NaN  47.7%   \n",
       " \n",
       "       3PT     FT  OREB  DREB   REB   AST  STL  BLK    TO    PF   +/-    PTS  \n",
       " 0     1-4    1-2   1.0   6.0   7.0   1.0  1.0  0.0   0.0   2.0  -7.0    4.0  \n",
       " 1     1-3    0-0   2.0   6.0   8.0   2.0  1.0  1.0   1.0   3.0  10.0    7.0  \n",
       " 2     0-0    6-8   9.0   9.0  18.0   0.0  0.0  1.0   2.0   2.0 -11.0   24.0  \n",
       " 3    9-18  14-17   0.0   2.0   2.0   6.0  0.0  1.0   6.0   2.0   3.0   45.0  \n",
       " 4     2-7    4-5   1.0   3.0   4.0   4.0  1.0  0.0   1.0   6.0  12.0   20.0  \n",
       " 5     0-0    1-1   1.0   5.0   6.0   0.0  0.0  1.0   0.0   2.0  25.0    7.0  \n",
       " 6     2-6    0-0   1.0   3.0   4.0   3.0  1.0  0.0   2.0   3.0  14.0   10.0  \n",
       " 7     3-7    1-2   1.0   4.0   5.0   1.0  0.0  0.0   0.0   2.0  24.0   10.0  \n",
       " 8     NaN    NaN   NaN   NaN   NaN   NaN  NaN  NaN   NaN   NaN   NaN    NaN  \n",
       " 9     NaN    NaN   NaN   NaN   NaN   NaN  NaN  NaN   NaN   NaN   NaN    NaN  \n",
       " 10    NaN    NaN   NaN   NaN   NaN   NaN  NaN  NaN   NaN   NaN   NaN    NaN  \n",
       " 11    NaN    NaN   NaN   NaN   NaN   NaN  NaN  NaN   NaN   NaN   NaN    NaN  \n",
       " 12    NaN    NaN   NaN   NaN   NaN   NaN  NaN  NaN   NaN   NaN   NaN    NaN  \n",
       " 13  18-45  27-35  16.0  38.0  54.0  17.0  4.0  4.0  12.0  22.0   NaN  127.0  \n",
       " 14  40.0%  77.1%   NaN   NaN   NaN   NaN  NaN  NaN   NaN   NaN   NaN    NaN  ,\n",
       "            TEAM   W   L    PCT  GB STRK\n",
       " 0       Toronto  26  10  0.722   0   W1\n",
       " 1  Philadelphia  23  13  0.639   3   W1\n",
       " 2        Boston  20  14  0.588   5   L1\n",
       " 3      Brooklyn  17  19  0.472   9   W2\n",
       " 4      New York   9  27  0.250  17   L6,\n",
       "           TEAM   W   L    PCT   GB STRK\n",
       " 0      Houston  19  15  0.559  0.0   W3\n",
       " 1  San Antonio  19  16  0.543  0.5   W1\n",
       " 2      Memphis  18  16  0.529  1.0   W2\n",
       " 3       Dallas  16  17  0.485  2.5   W1\n",
       " 4  New Orleans  15  20  0.429  4.5   L5]"
      ]
     },
     "execution_count": 30,
     "metadata": {},
     "output_type": "execute_result"
    }
   ],
   "source": [
    "\n",
    "import pandas as pd\n",
    "#Using a boxscore from last night in order to \n",
    "url = r'http://www.espn.com/nba/boxscore?gameId=401071188'\n",
    "tables = pd.read_html(url) # Returns list of all tables on page\n",
    "tables"
   ]
  },
  {
   "cell_type": "code",
   "execution_count": null,
   "metadata": {},
   "outputs": [],
   "source": []
  }
 ],
 "metadata": {
  "kernelspec": {
   "display_name": "Python 3",
   "language": "python",
   "name": "python3"
  },
  "language_info": {
   "codemirror_mode": {
    "name": "ipython",
    "version": 3
   },
   "file_extension": ".py",
   "mimetype": "text/x-python",
   "name": "python",
   "nbconvert_exporter": "python",
   "pygments_lexer": "ipython3",
   "version": "3.7.0"
  }
 },
 "nbformat": 4,
 "nbformat_minor": 2
}
